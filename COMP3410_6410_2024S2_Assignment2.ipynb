{
  "cells": [
    {
      "cell_type": "markdown",
      "metadata": {
        "id": "view-in-github",
        "colab_type": "text"
      },
      "source": [
        "<a href=\"https://colab.research.google.com/github/jk13mq/6420-ass3p2/blob/main/COMP3410_6410_2024S2_Assignment2.ipynb\" target=\"_parent\"><img src=\"https://colab.research.google.com/assets/colab-badge.svg\" alt=\"Open In Colab\"/></a>"
      ]
    },
    {
      "cell_type": "markdown",
      "id": "f91d88de",
      "metadata": {
        "id": "f91d88de"
      },
      "source": [
        "#### COMP3410/COMP6410 Knowledge, Planning and Decision Making under Uncertainty (2024 S2)\n",
        "\n",
        "<hr>"
      ]
    },
    {
      "cell_type": "markdown",
      "id": "0ccacecb",
      "metadata": {
        "id": "0ccacecb"
      },
      "source": [
        "# Assignment 2\n",
        "\n",
        "As part of this assignment, you will develop solutions to optimize disaster response operations using the techniques covered in the lecture series. Your task is to implement and test algorithms for path planning, decision-making, and multi-agent coordination in a simulated rescue scenario. Additionally, you will need to propose a project title that summarizes your designed solution, which will be a small part of the assignment as well.\n",
        "\n",
        "## Introduction\n",
        "\n",
        "Natural disasters often require quick and efficient rescue operations to minimize casualties and damage. In this assignment, you will use the concepts from **Adversarial Games and Multi-Agent Systems (Weeks 7-9)** and **Uncertainty in AI (Weeks 10-11)** to create solutions for a disaster response simulation.\n",
        "\n",
        "You will focus on applying genetic algorithms, ant colony optimization, the Minmax algorithm with alpha-beta pruning and its enhancements, multi-agent systems, game theory, and Bayesian networks. These methods will help you simulate decision-making in multi-agent rescue operations. While your solution should be grounded in the lecture material, you are encouraged to explore improvements for computational efficiency including your own design of advanced modifications to enhance performance and effectiveness."
      ]
    },
    {
      "cell_type": "markdown",
      "id": "9220620f",
      "metadata": {
        "id": "9220620f"
      },
      "source": [
        "## Simulation Scenario\n",
        "\n",
        "An earthquake has struck NovaCity, causing widespread destruction, including fires, and road blockages. Emergency response teams need to be coordinated for rescue operations.\n",
        "\n",
        "The city is divided into **5 regions (R1 to R5)**. Each region has an evaluated **damage level** according to its blocked roads and fires:\n",
        "- High damage (H): $>=50\\%$ roads blocked, or $>=30\\%$ fires;\n",
        "- Medium damage (M): $[10\\%, 50\\%)$ roads blocked, or $[10\\%, 30\\%)$ fires; and\n",
        "- Low damage (L): $<10\\%$ roads blocked, or $<10\\%$ fires.\n",
        "\n",
        "Either blocked roads or fires that reach the range can be considered its damage level. For example, a region with 30\\% road blocks and 5\\% fires is Medium damaged.\n",
        "\n",
        "The **initial damage** to each region is provided:\n",
        "- R1 (H): 60\\% roads blocked, 35\\% fires;\n",
        "- R2 (M): 40\\% roads blocked, 25\\% fires;\n",
        "- R3 (M): 15\\% roads blocked, 5\\% fires;\n",
        "- R4 (H): 35\\% roads blocked, 30\\% fires; and\n",
        "- R5 (L): 5\\% roads blocked, 3\\% fires.\n",
        "\n",
        "Assume all regions are of equal size to simplify the modelling process. Each region is modelled as a **node** in a graph, and predefined **distances** between regions (e.g., 5 km between R1 and R2, 3 km between R2 and R3) are detailed: R1 -- R2: 5 km, R1 -- R3: 7 km, R1 -- R4: 4 km, R1 -- R5: 6 km, R2 -- R3: 3 km, R2 -- R4: 4 km, R2 -- R5: 8 km, R3 -- R4: 5 km, R3 -- R5: 6 km, and R4 -- R5: 4 km.\n",
        "\n",
        "During the rescue, each region will continue to experience fire spread and aftershocks. Fires spread every 10 minutes within the same region, increasing the fire percentage by 10\\%. Aftershocks occur randomly every 15 minutes increasing road blockages by 10\\% over all regions. For example, in R1, the initial damage is 60\\% roads blocked and 35\\% fires. After 10 minutes, it becomes $(60\\%, 45\\%)$, and after an additional 5 minutes, it becomes $(70\\%, 45\\%)$ if no rescue operations are performed.\n",
        "\n",
        "Rescue agents are distributed across regions at the start of the simulation. **Eight units of fire trucks start at R2.** Each fire truck unit decreases fire percentage by 10\\% per rescue operation. **Six units of police start at R4.** Each police unit decreases road blockages by 10\\% per rescue operation. Multiple agents/units can perform rescue operations at the same time in the same region. The effects of their actions are cumulative. For example, if 2 fire trucks are deployed to R1 simultaneously, the fire percentage decreases by 20\\% in one operation. Rescue operations affect the regional damage directly. If a fire truck reduces fire percentage by 10\\%, that 10\\% decrease is applied to the overall fire damage in that region, e.g., $20\\%-10\\%=10\\%$.\n",
        "\n",
        "**Assumption:** Both rescue operations and disaster events (fire spread and aftershocks) do not consume time in this simulation, but each unit can only perform rescue once when visiting the region. Rescue agents will not lose resources along a path, and all operations will occur instantly for the purpose of modelling. However, the effects of disasters and rescues will still be cumulative over time. Rescue agents aim to follow a path that covers all regions, ensuring each region is visited only once. After completing their assigned rescue tasks along the path, they must return to their starting point for a refill.\n",
        "\n",
        "**Travel Speed:** Rescue agents can travel at a maximum speed of 60 km/h on unblocked roads. If roads are blocked, their speed will be reduced according to the percentage of blocked roads in the region they are traveling to or from. The travel speed between two regions is determined by the average percentage of blocked roads in both regions. For example, if R1 has 60\\% blocked roads and R2 has 40\\% blocked roads, the average blocked road percentage is $(60\\% + 40\\%) / 2 = 50\\%$. The travel speed will then be reduced by 50\\%, resulting in a travel speed of 30 km/h. Rescue agents won’t block each other. Fire damage will not affect travel speed.\n",
        "\n",
        "Rescue operations must be completed within 90 minutes and the sooner the better. You need to allocate resources efficiently, prioritize critical regions, and adapt to changing conditions like fire spread and aftershocks. Rescue agents must quickly respond to new blockages and worsening fires, adjusting strategies to minimize delays."
      ]
    },
    {
      "cell_type": "markdown",
      "id": "48cf2111",
      "metadata": {
        "id": "48cf2111"
      },
      "source": [
        "## Task Breakdown and their Objectives\n",
        "\n",
        "1. **Genetic Algorithms for Path Optimization**: Implement a genetic algorithm to design and develop efficient pathfinding algorithms that help rescue agents navigate disaster environments quickly and effectively. The implementation should use multiple successors to improve path selection and minimize overall rescue time.\n",
        "\n",
        "2. **Ant Colony Optimization (ACO) for Multi-Agent Coordination**:  Simulate how each rescue unit (e.g., polices and fire trucks) employs ACO to coordinate their movements to find their optimal paths. Assume agents can communicate in real time to share updated road and fire conditions once they arrive at the scene. The simulation should dynamically update “pheromone levels” as new road blockages or fires occur, improving the collaboration of multi-agent systems to ensure optimal use of resources and timely responses in disaster scenarios.\n",
        "\n",
        "3. **Minmax Algorithm with Alpha-Beta Pruning and Enhancements**: Implement the Minmax algorithm with Alpha-Beta Pruning to improve decision-making in competitive rescue scenarios, e.g., rescue agent vs fire spread/aftershock. Additionally, explore further computational enhancements, such as negamax or other advanced modifications of your design, to optimize the evaluation of rescue strategies, e.g, the number of units should be assigned to the same location, and improve decision-making efficiency.\n",
        "\n",
        "4. **Game Theory for Multi-Agent Systems**: Model an uncertain strategy by assigning predefined parameters specific values using game theory. Identify an appropriate equilibrium (such as Nash equilibrium, dominant strategy equilibrium, or another relevant concept) to maximize overall success.\n",
        "\n",
        "5. **Bayesian Networks for Uncertain Inferences**: Develop Bayesian networks to handle uncertainties in rescue operations, such as fire spread or road blockages. Use Conditional Probability Tables (CPTs) to model incomplete information and support agents in making better-informed decisions under evolving conditions.\n",
        "\n",
        "The objectives may not be developed in sequence. As you work through the assignment, keep the overall design of the solution in mind and carefully consider where each method or solution best fits to achieve the overall project goals."
      ]
    },
    {
      "cell_type": "markdown",
      "id": "ba642903",
      "metadata": {
        "id": "ba642903"
      },
      "source": [
        "## Assignment Requirements\n",
        "\n",
        "1. **Overall Project Title and Design**: Begin by naming your project and reporting your overall project design. Describe how you plan to approach the disaster response simulation as a whole.\n",
        "\n",
        "2. **Linking Tasks to the Design**: Clearly explain how each task (genetic algorithms, ACO, Minmax, game theory, Bayesian networks) fits into your overall design. Show how these tasks are expected to contribute to solving the problem.\n",
        "\n",
        "3. **Task-Specific Design**: For each task, provide detailed explanations of your approach, including any required calculations, step-by-step explanations, and referenced equations. Your written design should clearly describe how you will tackle each specific task.\n",
        "\n",
        "4. **Code Development**: Provide the corresponding code that fully implements both your task-specific design and the overall project design. You don’t need to repeat the same code in multiple sections, but you must reference and explain the code clearly in your design reporting. This ensures that your written report ties directly into your coding implementation, showing how the code achieves the project goals and the performance of each individual task.\n",
        "\n",
        "5. **Submission**: The final submission should be in the Jupyter Notebook format (.ipynb) that you downloaded. Once completed, submit this notebook as your final submission. Initial contents like instructions can be removed in your final submission. Use Markdown cells to write your design report, including explanations, calculations, and step-by-step approaches. The code for each task should be placed in the corresponding code cells, ensuring it’s well-integrated with the report. Organize your notebook clearly using appropriate heading structures. Use: # for Level 1 (main headings), ## for Level 2 (subheadings), ### for Level 3 (sub-subheadings), etc. Ensure that all code in the notebook is fully executable. Each section’s code should output relevant results that support the design made in the report. The notebook should be easy to navigate. Use comments within your code to explain key parts of the implementation where necessary."
      ]
    },
    {
      "cell_type": "markdown",
      "id": "3abe391d",
      "metadata": {
        "id": "3abe391d"
      },
      "source": [
        "## Marking Guidelines\n",
        "\n",
        "- **Overall design (10 marks)**: Clear and well-structured overall project design. Proper linkage of tasks to the overall solution. Thoughtful consideration of how each method fits into the project’s goals.\n",
        "\n",
        "- **Breakdown Tasks**: Clear explanation of the design and approaches in the report and correct implementation by coding.\n",
        "    - Task 1: Genetic Algorithms (15 marks)\n",
        "    - Task 2: ACO (15 marks)\n",
        "    - Task 3: Minmax Algorithm (20 marks)\n",
        "    - Task 4: Game Theory (15 marks)\n",
        "    - Task 5: Bayesian Networks (15 marks).\n",
        "\n",
        "- **Clarity and Style for Report and Code (10 marks)**: Clear, well-structured report that explains the design and tasks effectively. Proper organization using headings and step-by-step explanations. Well-commented and easy-to-read code. Code runs correctly and produces the expected results for each task."
      ]
    },
    {
      "cell_type": "markdown",
      "id": "35bfdcf8",
      "metadata": {
        "id": "35bfdcf8"
      },
      "source": [
        "## Special Consideration and Late Submissions\n",
        "\n",
        "Unless a Special Consideration request has been submitted and approved, a **5% penalty** (ofthe total possible mark) will be applied each day a written assessment is not submitted, upuntil the 7th day (including weekends). After the 7th day, a grade of '0' will be awarded evenif the assessment is submitted. Submission time for all written assessments is set at **11:55pm**. A 1-hour grace period is provided to students who experience a technical concern.\n",
        "\n",
        "For any late submission of time-sensitive tasks, such as scheduled tests/exams, performance assessments/presentations, and/or scheduled practical assessments/labs, students need to submit an application for Special Consideration.\n",
        "\n",
        "- Assignment 1: YES, Standard Late Penalty applies\n",
        "- **Assignment 2: YES, Standard Late Penalty applies**\n",
        "\n",
        "<hr>"
      ]
    },
    {
      "cell_type": "markdown",
      "id": "e61fe965",
      "metadata": {
        "id": "e61fe965"
      },
      "source": [
        "_Below is the start of your Assignment 2. Edition over provided structure is allowed. Instructions and hints can be removed in your final submission._"
      ]
    },
    {
      "cell_type": "markdown",
      "id": "0f353075",
      "metadata": {
        "id": "0f353075"
      },
      "source": [
        "# Project Title:"
      ]
    },
    {
      "cell_type": "markdown",
      "id": "8cf1d036",
      "metadata": {
        "id": "8cf1d036"
      },
      "source": [
        "_Author details_\n",
        "\n",
        "- Student Name:\n",
        "- ID Number:\n",
        "- Email Address:"
      ]
    },
    {
      "cell_type": "markdown",
      "id": "cdb497f8",
      "metadata": {
        "id": "cdb497f8"
      },
      "source": [
        "# Overall Design"
      ]
    },
    {
      "cell_type": "markdown",
      "id": "2f5f622f",
      "metadata": {
        "id": "2f5f622f"
      },
      "source": [
        "In this assignment, it is important to recognize that the objectives may not follow a strict sequence, and the breakdown tasks are not isolated. Instead, the output of one task often becomes the input for the next, creating an interconnected system. For example, when completing Task 2 (ACO), the output of rescue paths can be the initial poputation in Task 1 (Genetic Algorithms for Path Optimization)."
      ]
    },
    {
      "cell_type": "markdown",
      "id": "3fffb734",
      "metadata": {
        "id": "3fffb734"
      },
      "source": [
        "## Task Breakdown\n",
        "\n",
        "### for each breakdown task\n",
        "\n",
        "Report your breakdown task contribution to the overall design and include\n",
        "\n",
        "**Goal**:\n",
        "\n",
        "**Integration:**\n",
        "\n",
        "- Input:\n",
        "- Output:\n",
        "- Next Step:\n"
      ]
    },
    {
      "cell_type": "markdown",
      "id": "61e794db",
      "metadata": {
        "id": "61e794db"
      },
      "source": [
        "# Breakdown Tasks\n",
        "\n",
        "You should reorder Tasks 1-5 following the steps in your overall design."
      ]
    },
    {
      "cell_type": "markdown",
      "id": "84bcfc23",
      "metadata": {
        "id": "84bcfc23"
      },
      "source": [
        "## Task 1: Genetic Algorithms for Path Optimization"
      ]
    },
    {
      "cell_type": "markdown",
      "id": "af9361f2",
      "metadata": {
        "id": "af9361f2"
      },
      "source": [
        "report your design here. A step follows a piece of code is preferred.\n",
        "\n",
        "_hints:_ The successor of exchange might fit more to this project than mutation. Successor works on `path[1:]` as the start location is fixed."
      ]
    },
    {
      "cell_type": "code",
      "execution_count": null,
      "id": "3c7e9736",
      "metadata": {
        "id": "3c7e9736"
      },
      "outputs": [],
      "source": [
        "# provide your code here\n",
        "# around 7 simple functions are needed to complete this task.\n",
        "# generate_initial_population\n",
        "# fitness_function\n",
        "# selection\n",
        "# crossover\n",
        "# exchange\n",
        "# successor\n",
        "# genetic_algorithm"
      ]
    },
    {
      "cell_type": "markdown",
      "id": "d7383378",
      "metadata": {
        "id": "d7383378"
      },
      "source": [
        "## Task 2: Ant Colony Optimization (ACO) for Multi-Agent Coordination"
      ]
    },
    {
      "cell_type": "markdown",
      "id": "4b6df3a9",
      "metadata": {
        "id": "4b6df3a9"
      },
      "source": [
        "report your design here. A step follows a piece of code is preferred.\n",
        "\n",
        "_hints:_ Fire trucks and polices need to be handled seperately when implementing ACO.\n",
        "\n",
        "Similar to the calculation of the averaged blockages between two regions, the pheromone level can be determined by averaging the conditions of the two connected regions. For example, $\\rho^{\\text{fire}}_{R_1R_2} = 1 - [\\text{fire damage}(R1)+\\text{fire damage}(R2)]/2/100$.\n",
        "\n",
        "Additionally, the equations are provided for your convenience in reporting.\n",
        "\n",
        "$$\\tau_{ij} \\leftarrow \\text{Evaporation}(\\tau_{ij})$$\n",
        "\n",
        "$$\\tau_{ij} \\leftarrow \\text{Rescue}(\\tau_{ij})$$ where `Evaporation` can be fire spread or aftershock, `Rescue` can be from a unit of fire truck or a unit of police.\n",
        "\n",
        "$$\\eta_{ij}=1/d_{ij}$$\n",
        "\n",
        "$$p^k_{ij}=\\frac{[\\tau_{ij}]^\\alpha[\\eta_{ij}]^\\beta}{\\sum_{l\\in N_k(i)}[\\tau_{il}]^\\alpha[\\eta_{il}]^\\beta}$$"
      ]
    },
    {
      "cell_type": "code",
      "execution_count": null,
      "id": "37e0b0d2",
      "metadata": {
        "id": "37e0b0d2"
      },
      "outputs": [],
      "source": [
        "# provide your code here\n",
        "# around 5 simple functions are needed to complete this task.\n",
        "# evaporate_pheromones\n",
        "# deposit_pheromones\n",
        "# choose_next_region\n",
        "# edge_travel_time\n",
        "# simulate_agent_path"
      ]
    },
    {
      "cell_type": "markdown",
      "id": "09ac383f",
      "metadata": {
        "id": "09ac383f"
      },
      "source": [
        "## Task 3: Minmax Algorithm with Alpha-Beta Pruning and Enhancements"
      ]
    },
    {
      "cell_type": "markdown",
      "id": "ae23ae49",
      "metadata": {
        "id": "ae23ae49"
      },
      "source": [
        "report your design here. A step follows a piece of code is preferred.\n",
        "\n",
        "_hints:_\n",
        "\n",
        "Who is **Max Player**?\n",
        "\n",
        "Who is **Min Player**?\n",
        "\n",
        "**Game tree construction** Any data should be prepared by pre-computation? Utility?\n",
        "\n",
        "|            |       |     |      |         |      |\n",
        "| ---------- |  -----|-----|------|-------- | -----|\n",
        "|`path[0]`   |  Max  |     |      |  #units   |    |\n",
        "|            |       |     |      |     l     |    |\n",
        "|            | Min   |     |      |     fires |    |\n",
        "|            |       |   / |    / |       l   | \\  |\n",
        "|`path[1]`   | Max   |  #units  | #units-1| ...|  1   |\n",
        "|            |       |   l |  l   |            |     |\n",
        "|            | Min   |fires|fires |  ...   |         |\n",
        "|`path[2]`   | ...   |  ...|//...l...\\\\   |   ...   |       |\n",
        "|      ...   |       |     | #units-1 .... 1     |  ...    |     |\n",
        "|`path[4]`   |  ...  | ... |  ... |  ...    |  ... |\n",
        "\n",
        "Start with total number of units of agents at `path[0]`. For each region `path[i]`, the number units of agents assigned can be from the available units at that point down to one. Compute all possible allocations for the regions (`path[1]`, `path[2]`, `path[3]`, `path[4]`) based on the remaining units after allocation at the current region. Recursively list all possible combinations of allocations along the path."
      ]
    },
    {
      "cell_type": "code",
      "execution_count": null,
      "id": "3f167e83",
      "metadata": {
        "id": "3f167e83"
      },
      "outputs": [],
      "source": [
        "# provide your code here"
      ]
    },
    {
      "cell_type": "markdown",
      "id": "7b0448e2",
      "metadata": {
        "id": "7b0448e2"
      },
      "source": [
        "## Task 4: Game Theory for Multi-Agent Systems"
      ]
    },
    {
      "cell_type": "markdown",
      "id": "b5c85a2a",
      "metadata": {
        "id": "b5c85a2a"
      },
      "source": [
        "report your design here. A step follows a piece of code is preferred.\n",
        "\n",
        "_hints:_ You can develop payoff matrices to determine optimal parameter values in this project by selecting the best value from a list of candidate options based on your design. A common approach is to evaluate parameter candidates by testing a range of values in defined steps. For example, the `parameter` can take values from the set `{0, 1, 2, 3, 4}` in steps of 1. Then, the set is a list of actions for one player in game theory. Accordingly, you need to initial a all-zero payoff matrix to compute its payoff values. `payoffs = [[0 for _ in range(len(action_payer1))] for _ in range(len(action_payer2))]`."
      ]
    },
    {
      "cell_type": "code",
      "execution_count": null,
      "id": "b5b0b2eb",
      "metadata": {
        "id": "b5b0b2eb"
      },
      "outputs": [],
      "source": [
        "# provide your code here"
      ]
    },
    {
      "cell_type": "markdown",
      "id": "6a42b2d7",
      "metadata": {
        "id": "6a42b2d7"
      },
      "source": [
        "## Task 5: Bayesian Networks for Uncertain Inferences"
      ]
    },
    {
      "cell_type": "markdown",
      "id": "5bc1b99e",
      "metadata": {
        "id": "5bc1b99e"
      },
      "source": [
        "report your design here. A step follows a piece of code is preferred.\n",
        "\n",
        "_hints:_ Given a rescue scenario and a specific path, what are the variables to consider? Based on the available information, you will need to construct the topology of a Bayesian network, identifying dependencies between the variables, and then calculate the Conditional Probability Tables (CPTs) for each node in the network. Finally, make the inference contribute to the rescue optimization."
      ]
    },
    {
      "cell_type": "code",
      "execution_count": null,
      "id": "14d8a942",
      "metadata": {
        "id": "14d8a942"
      },
      "outputs": [],
      "source": [
        "# provide your code here"
      ]
    },
    {
      "cell_type": "markdown",
      "id": "184c5e07",
      "metadata": {
        "id": "184c5e07"
      },
      "source": [
        "# Overall Running"
      ]
    },
    {
      "cell_type": "markdown",
      "id": "a6697bf4",
      "metadata": {
        "id": "a6697bf4"
      },
      "source": [
        "You need to provide the overall rescure results by code running based on your overall design and breakdown task designs. It is preferred to put `functions` in the breakdown task above and execute them in the overall running here.  "
      ]
    },
    {
      "cell_type": "code",
      "execution_count": null,
      "id": "981c1a88",
      "metadata": {
        "id": "981c1a88"
      },
      "outputs": [],
      "source": [
        "# provide your code here"
      ]
    },
    {
      "cell_type": "markdown",
      "id": "7b121817",
      "metadata": {
        "id": "7b121817"
      },
      "source": [
        "# Conclustion and Discussion"
      ]
    },
    {
      "cell_type": "markdown",
      "id": "09b42ef6",
      "metadata": {
        "id": "09b42ef6"
      },
      "source": [
        "provide your conclustion and discussion"
      ]
    }
  ],
  "metadata": {
    "kernelspec": {
      "display_name": "Python 3 (ipykernel)",
      "language": "python",
      "name": "python3"
    },
    "language_info": {
      "codemirror_mode": {
        "name": "ipython",
        "version": 3
      },
      "file_extension": ".py",
      "mimetype": "text/x-python",
      "name": "python",
      "nbconvert_exporter": "python",
      "pygments_lexer": "ipython3",
      "version": "3.11.4"
    },
    "colab": {
      "provenance": [],
      "include_colab_link": true
    }
  },
  "nbformat": 4,
  "nbformat_minor": 5
}